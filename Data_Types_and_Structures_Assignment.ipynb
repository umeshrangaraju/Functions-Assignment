{
  "nbformat": 4,
  "nbformat_minor": 0,
  "metadata": {
    "colab": {
      "provenance": []
    },
    "kernelspec": {
      "name": "python3",
      "display_name": "Python 3"
    },
    "language_info": {
      "name": "python"
    }
  },
  "cells": [
    {
      "cell_type": "markdown",
      "source": [
        "## **Data Types and Structures Questions **\n",
        "\n",
        "01. What are data structures, and why are they important ?      \n",
        "  -->Data structures are ways of organizing and storing data to perform operations efficiently.       \n",
        "  -->They’re crucial because they determine how quickly and effectively you can access, modify, and manage data.    \n",
        "\n",
        "---\n",
        "02. Explain the difference between mutable and immutable data types with examples ?       \n",
        "    --> \tMutable eg ,List, Set, Dictionary  Can be changed after creation    \n",
        "  --> Immutable eg , Tuple, String, Integer Cannot be changed once created  \n",
        "\n",
        "---\n",
        "03. What are the main differences between lists and tuples in Python ?    \n",
        "    -->Lists are mutable and start with [], performance  likely slower.     \n",
        "    -->Tuple are immutable and start with (), performance likely fast.    \n",
        "\n",
        "----\n",
        "04. Describe how dictionaries store data.\n",
        "--> Dictionaries store data as key-value pairs using a hash table internally.   \n",
        "--> Keys must be immutable and unique; values can be any type.        \n",
        "\n",
        "---\n",
        "05. Why might you use a set instead of a list in Python ?     \n",
        "--> Sets automatically remove duplicates and offer faster membership tests.\n",
        "--> Ideal when you need unique elements and don’t care about order.\n",
        "\n",
        "---\n",
        "06. What is a string in Python, and how is it different from a list ?         \n",
        "--> A string is a sequence of characters, immutable.  # String s = \"hello\"    \n",
        "--> A list is a sequence of elements (any type), mutable. # List\n",
        "l = ['h', 'e', 'l', 'l', 'o']\n",
        "---\n",
        "07. How do tuples ensure data integrity in Python ?       \n",
        "--> Tuples are immutable, meaning their contents can’t be changed.  \n",
        "-->This makes them safe for use as keys in dictionaries or for storing fixed configurations.    \n",
        "\n",
        "---\n",
        "08. What is a hash table, and how does it relate to dictionaries in Python ?  \n",
        "--> A hash table maps keys to values using a hash function.   \n",
        "--> Python dictionaries use hash tables to achieve constant-time access to values via keys.        \n",
        "\n",
        "---\n",
        "09  Can lists contain different data types in Python ?    \n",
        "  --> Yes! Python lists are heterogeneous.       \n",
        "\n",
        "---\n",
        "10. Explain why strings are immutable in Python.      \n",
        "  --> Strings are immutable to ensure security, thread safety, and hashability.\n",
        "  --> It allows Python to intern strings for memory efficiency.\n",
        "\n",
        "---\n",
        "11. What advantages do dictionaries offer over lists for certain tasks ?      \n",
        "  --> Semantic clarity with named keys.   \n",
        "  --> Ideal for structured data like user profiles or settings.\n",
        "\n",
        "---\n",
        "12. Describe a scenario where using a tuple would be preferable over a list     \n",
        "  --> Use a tuple when:   \n",
        "  --> Data should not change (e.g., coordinates: (x, y)).   \n",
        "  --> You want to use it as a dictionary key.   \n",
        "\n",
        "---\n",
        "13. How do sets handle duplicate values in Python ?          \n",
        "  --> Sets automatically discard duplicate values.    \n",
        "    eg :- s = {1, 2, 2, 3}    \n",
        "          print(s)  # Output: {1, 2, 3}\n",
        "\n",
        "---\n",
        "14. How does the “in” keyword work differently for lists and dictionaries ?     \n",
        "  --> List: checks if a value exists.   \n",
        "  --> Dictionary: checks if a key exists.   \n",
        "\n",
        "  eg : 3 in [1, 2, 3]  # True     \n",
        "      'name' in {'name': 'Alice'}  # True  \n",
        "\n",
        "---\n",
        "15. Can you modify the elements of a tuple? Explain why or why not.   \n",
        "  --> No. Tuples are immutable, so their elements cannot be changed after creation.      \n",
        "\n",
        "---\n",
        "16. What is a nested dictionary, and give an example of its use case ?      \n",
        "  --> A dictionary inside another dictionary.       \n",
        "  --> Useful for representing hierarchical data.    \n",
        "  eg : - users = {\n",
        "  'alice': {'age': 30, 'email': 'alice@example.com'},\n",
        "  'bob': {'age': 25, 'email': 'bob@example.com'}\n",
        "}   \n",
        "\n",
        "---\n",
        "17. Describe the time complexity of accessing elements in a dictionary.       \n",
        "  --> on average due to hash table implementation.  \n",
        "\n",
        "---\n",
        "18. In what situations are lists preferred over dictionaries ?        \n",
        "  --> When order matters.     \n",
        "  --> When storing sequences without named identifiers.     \n",
        "  --> For iteration over values.   \n",
        "\n",
        "---\n",
        "19. Why are dictionaries considered unordered, and how does that affect data retrieval ?          \n",
        "  --> Prior to Python 3.7, dictionaries didn’t preserve insertion order.    \n",
        "  --> Even now, they’re not indexed like lists, so retrieval is by key, not position.\n",
        "\n",
        "---\n",
        "20. Explain the difference between a list and a dictionary in terms of data retrieval.      \n",
        "  --> lists are access through by index and its ordered data.\n",
        "  --> Dictionery are access through by key word  and data\n",
        "---"
      ],
      "metadata": {
        "id": "-2wWSoZNUGMH"
      }
    },
    {
      "cell_type": "markdown",
      "source": [
        "## **Practical Questions**\n",
        "\n",
        "\n"
      ],
      "metadata": {
        "id": "vmZaJEu4weMl"
      }
    },
    {
      "cell_type": "code",
      "source": [
        "#01. Write a code to create a string with your name and print it ?\n",
        "name = \"Umesh Rangaraju\"\n",
        "print(name)"
      ],
      "metadata": {
        "colab": {
          "base_uri": "https://localhost:8080/"
        },
        "id": "v9kDApeGuZpO",
        "outputId": "2eee4884-321b-4fc3-ea8d-e5e24607e3b7"
      },
      "execution_count": 2,
      "outputs": [
        {
          "output_type": "stream",
          "name": "stdout",
          "text": [
            "Umesh Rangaraju\n"
          ]
        }
      ]
    },
    {
      "cell_type": "code",
      "source": [
        "#02. Write a code to find the length of the string \"Hello World ?\n",
        "s=\"hello World\"\n",
        "print(len(s))"
      ],
      "metadata": {
        "colab": {
          "base_uri": "https://localhost:8080/"
        },
        "id": "mzcuZxH_w2pp",
        "outputId": "35155f21-102d-4467-cb77-4c9846a8c3c0"
      },
      "execution_count": 6,
      "outputs": [
        {
          "output_type": "stream",
          "name": "stdout",
          "text": [
            "11\n"
          ]
        }
      ]
    },
    {
      "cell_type": "code",
      "source": [
        "#03. Write a code to slice the first 3 characters from the string \"Python Programming\" ?\n",
        "s=\"Python Programming\"\n",
        "print(s[0:3])\n",
        "\n",
        "# len works with () but slicing character is [] why ?"
      ],
      "metadata": {
        "colab": {
          "base_uri": "https://localhost:8080/"
        },
        "id": "qs-dBX7zxS7O",
        "outputId": "9be4e665-9036-4be1-d68a-cd32531e20f7"
      },
      "execution_count": 7,
      "outputs": [
        {
          "output_type": "stream",
          "name": "stdout",
          "text": [
            "Pyt\n"
          ]
        }
      ]
    },
    {
      "cell_type": "code",
      "source": [
        "#04. Write a code to convert the string \"hello\" to uppercase ?\n",
        "s=\"hello\"\n",
        "print(s.upper())"
      ],
      "metadata": {
        "colab": {
          "base_uri": "https://localhost:8080/"
        },
        "id": "dpCkifdSyFCj",
        "outputId": "b5797a9d-4cce-4ab6-ca92-a5a286952787"
      },
      "execution_count": 9,
      "outputs": [
        {
          "output_type": "stream",
          "name": "stdout",
          "text": [
            "HELLO\n"
          ]
        }
      ]
    },
    {
      "cell_type": "code",
      "source": [
        "#05. Write a code to replace the word \"apple\" with \"orange\" in the string \"I like apple\" ?\n",
        "s=\"I like apple\"\n",
        "print(s.replace(\"apple\",\"orange\"))"
      ],
      "metadata": {
        "colab": {
          "base_uri": "https://localhost:8080/"
        },
        "id": "2110Lh3KyYGZ",
        "outputId": "17afe46f-8dc3-4b14-bb01-bc377f3a4a6d"
      },
      "execution_count": 11,
      "outputs": [
        {
          "output_type": "stream",
          "name": "stdout",
          "text": [
            "I like orange\n"
          ]
        }
      ]
    },
    {
      "cell_type": "code",
      "source": [
        "#06. Write a code to create a list with numbers 1 to 5 and print it?\n",
        "l = [1,2,3,4,5]\n",
        "print(l)"
      ],
      "metadata": {
        "colab": {
          "base_uri": "https://localhost:8080/"
        },
        "id": "L8nBIWZly8Iz",
        "outputId": "8f87c7d3-9687-4093-e6e6-3aa3b4f3192d"
      },
      "execution_count": 12,
      "outputs": [
        {
          "output_type": "stream",
          "name": "stdout",
          "text": [
            "[1, 2, 3, 4, 5]\n"
          ]
        }
      ]
    },
    {
      "cell_type": "code",
      "source": [
        "# 07. Write a code to append the number 10 to the list [1, 2, 3, 4] ?\n",
        "l = [1,2,3,4]\n",
        "l.append(10)\n",
        "print(l)"
      ],
      "metadata": {
        "colab": {
          "base_uri": "https://localhost:8080/"
        },
        "id": "T1Vq5sAPza8s",
        "outputId": "97535992-6ddc-4e8e-f589-a0186ccbfd8c"
      },
      "execution_count": 15,
      "outputs": [
        {
          "output_type": "stream",
          "name": "stdout",
          "text": [
            "[1, 2, 3, 4, 10]\n"
          ]
        }
      ]
    },
    {
      "cell_type": "code",
      "source": [
        "# 08. Write a code to remove the number 3 from the list [1, 2, 3, 4, 5] ?\n",
        "l = [1,2,3,4,5]\n",
        "l.remove(3)\n",
        "print(l)"
      ],
      "metadata": {
        "colab": {
          "base_uri": "https://localhost:8080/"
        },
        "id": "l2v6ERxT1Vt6",
        "outputId": "743d755a-b752-447c-f563-ea9a758a82be"
      },
      "execution_count": 16,
      "outputs": [
        {
          "output_type": "stream",
          "name": "stdout",
          "text": [
            "[1, 2, 4, 5]\n"
          ]
        }
      ]
    },
    {
      "cell_type": "code",
      "source": [
        "# 09. Write a code to access the second element in the list ['a', 'b', 'c', 'd'] ?\n",
        "l = ['a', 'b', 'c', 'd']\n",
        "print(l[1])"
      ],
      "metadata": {
        "colab": {
          "base_uri": "https://localhost:8080/"
        },
        "id": "xp6fubne1qYV",
        "outputId": "456b0713-0cb7-4991-d49f-76f1583b2f98"
      },
      "execution_count": 17,
      "outputs": [
        {
          "output_type": "stream",
          "name": "stdout",
          "text": [
            "b\n"
          ]
        }
      ]
    },
    {
      "cell_type": "code",
      "source": [
        "# 10. Write a code to reverse the list [10, 20, 30, 40, 50].\n",
        "l = [10, 20, 30, 40, 50]\n",
        "l.reverse()\n",
        "print(l)"
      ],
      "metadata": {
        "colab": {
          "base_uri": "https://localhost:8080/"
        },
        "id": "Yn61wZT62pmm",
        "outputId": "6e995366-eaf5-498a-a4b1-e45f55390781"
      },
      "execution_count": 22,
      "outputs": [
        {
          "output_type": "stream",
          "name": "stdout",
          "text": [
            "[50, 40, 30, 20, 10]\n"
          ]
        }
      ]
    },
    {
      "cell_type": "code",
      "source": [
        "# 11. Write a code to create a tuple with the elements 100, 200, 300 and print it.\n",
        "t = ( 100, 200, 300)\n",
        "print(t)"
      ],
      "metadata": {
        "colab": {
          "base_uri": "https://localhost:8080/"
        },
        "id": "yF_xmUpA348o",
        "outputId": "69ad8c43-b408-49e0-990d-46085d3a2d4f"
      },
      "execution_count": 72,
      "outputs": [
        {
          "output_type": "stream",
          "name": "stdout",
          "text": [
            "(100, 200, 300)\n"
          ]
        }
      ]
    },
    {
      "cell_type": "code",
      "source": [
        "# 12. Write a code to access the second-to-last element of the tuple ('red', 'green', 'blue', 'yellow').\n",
        "t = ('red', 'green', 'blue', 'yellow')\n",
        "print(t[-2])"
      ],
      "metadata": {
        "colab": {
          "base_uri": "https://localhost:8080/"
        },
        "id": "yVVBAQuE4241",
        "outputId": "3c22c716-0c3a-463a-fbc4-998614f11be7"
      },
      "execution_count": 30,
      "outputs": [
        {
          "output_type": "stream",
          "name": "stdout",
          "text": [
            "blue\n"
          ]
        }
      ]
    },
    {
      "cell_type": "code",
      "source": [
        "# 13. Write a code to find the minimum number in the tuple (10, 20, 5, 15).\n",
        "t = (10, 20, 5, 15)\n",
        "print(min(t))"
      ],
      "metadata": {
        "colab": {
          "base_uri": "https://localhost:8080/"
        },
        "id": "qVHiie-K8YVA",
        "outputId": "d9bea768-7ee7-4c73-da30-bfa88f9d2505"
      },
      "execution_count": 38,
      "outputs": [
        {
          "output_type": "stream",
          "name": "stdout",
          "text": [
            "5\n"
          ]
        }
      ]
    },
    {
      "cell_type": "code",
      "source": [
        "# 14. Write a code to find the index of the element \"cat\" in the tuple ('dog', 'cat', 'rabbit')\n",
        "t = ('dog', 'cat', 'rabbit')\n",
        "t.index(\"cat\")"
      ],
      "metadata": {
        "colab": {
          "base_uri": "https://localhost:8080/"
        },
        "id": "KAIVKUHl9-gN",
        "outputId": "e5ba9c92-a639-4731-a4f5-e51d416b04a1"
      },
      "execution_count": 39,
      "outputs": [
        {
          "output_type": "execute_result",
          "data": {
            "text/plain": [
              "1"
            ]
          },
          "metadata": {},
          "execution_count": 39
        }
      ]
    },
    {
      "cell_type": "code",
      "source": [
        "# 15. Write a code to create a tuple containing three different fruits and check if \"kiwi\" is in it.\n",
        "fruits = (\"apple\", \"banana\", \"cherry\")\n",
        "print(\"kiwi\" in fruits)"
      ],
      "metadata": {
        "colab": {
          "base_uri": "https://localhost:8080/"
        },
        "id": "eNQegxF9_ED2",
        "outputId": "3a64ac7c-03fa-4747-cd1a-7c65e314baca"
      },
      "execution_count": 40,
      "outputs": [
        {
          "output_type": "stream",
          "name": "stdout",
          "text": [
            "False\n"
          ]
        }
      ]
    },
    {
      "cell_type": "code",
      "source": [
        "# 16. Write a code to create a set with the elements 'a', 'b', 'c' and print it.\n",
        "s = {'a', 'b', 'c' }\n",
        "print(s)"
      ],
      "metadata": {
        "colab": {
          "base_uri": "https://localhost:8080/"
        },
        "id": "IHTGfvKA__FD",
        "outputId": "9f9937c8-9e2d-4f9a-fb4d-048be05e6561"
      },
      "execution_count": 41,
      "outputs": [
        {
          "output_type": "stream",
          "name": "stdout",
          "text": [
            "{'b', 'c', 'a'}\n"
          ]
        }
      ]
    },
    {
      "cell_type": "code",
      "source": [
        "# 17. Write a code to clear all elements from the set {1, 2, 3, 4, 5}.\n",
        "s =  {1, 2, 3, 4, 5}\n",
        "s.clear()\n",
        "print(s)"
      ],
      "metadata": {
        "colab": {
          "base_uri": "https://localhost:8080/"
        },
        "id": "1LQN1NmDBIas",
        "outputId": "3abd0669-d759-4b35-8bef-f6bba99fa6a6"
      },
      "execution_count": 43,
      "outputs": [
        {
          "output_type": "stream",
          "name": "stdout",
          "text": [
            "set()\n"
          ]
        }
      ]
    },
    {
      "cell_type": "code",
      "source": [
        "# 18. Write a code to remove the element 4 from the set {1, 2, 3, 4}.\n",
        "s = {1, 2, 3, 4}\n",
        "s.remove(4)\n",
        "print(s)"
      ],
      "metadata": {
        "colab": {
          "base_uri": "https://localhost:8080/"
        },
        "id": "j4jf5F4NBvkf",
        "outputId": "c5a9dec1-41e2-4efd-e79c-b79835856586"
      },
      "execution_count": 47,
      "outputs": [
        {
          "output_type": "stream",
          "name": "stdout",
          "text": [
            "{1, 2, 3}\n"
          ]
        }
      ]
    },
    {
      "cell_type": "code",
      "source": [
        "# 19. Write a code to find the union of two sets {1, 2, 3} and {3, 4, 5}\n",
        "s1 =  {1, 2, 3}\n",
        "s2 =  {3, 4, 5}\n",
        "print(s1 .union (s2))"
      ],
      "metadata": {
        "colab": {
          "base_uri": "https://localhost:8080/"
        },
        "id": "TyUJ9RnjBy-k",
        "outputId": "eefa42ca-8221-49cc-a7fe-aec7e9045d21"
      },
      "execution_count": 50,
      "outputs": [
        {
          "output_type": "stream",
          "name": "stdout",
          "text": [
            "{1, 2, 3, 4, 5}\n"
          ]
        }
      ]
    },
    {
      "cell_type": "code",
      "source": [
        "# 20. Write a code to find the intersection of two sets {1, 2, 3} and {2, 3, 4}.\n",
        "s1 = {1, 2, 3}\n",
        "s2 = {2, 3, 4}\n",
        "print(s1.intersection(s2))"
      ],
      "metadata": {
        "colab": {
          "base_uri": "https://localhost:8080/"
        },
        "id": "uXB_s776B2Dy",
        "outputId": "880eeaf9-6bed-4ea8-e100-074941c14370"
      },
      "execution_count": 52,
      "outputs": [
        {
          "output_type": "stream",
          "name": "stdout",
          "text": [
            "{2, 3}\n"
          ]
        }
      ]
    },
    {
      "cell_type": "code",
      "source": [
        "# 21. Write a code to create a dictionary with the keys \"name\", \"age\", and \"city\", and print it.\n",
        "k = {\"name\" : \"Umesh\", \"age\": 42, \"city\":\"Bangalore\"}\n",
        "print(k)"
      ],
      "metadata": {
        "colab": {
          "base_uri": "https://localhost:8080/"
        },
        "id": "gfvVmY5OCplD",
        "outputId": "c981021c-478c-48ab-9992-c449d7ae7de9"
      },
      "execution_count": 57,
      "outputs": [
        {
          "output_type": "stream",
          "name": "stdout",
          "text": [
            "{'name': 'Umesh', 'age': 42, 'city': 'Bangalore'}\n"
          ]
        }
      ]
    },
    {
      "cell_type": "code",
      "source": [
        "# 22. Write a code to add a new key-value pair \"country\": \"USA\" to the dictionary {'name': 'John', \t'age': \t25}.\n",
        "\n",
        "d = {'name': 'John', \t'age': \t25}\n",
        "d [\"country\"] = \"USA\"\n",
        "print(d)"
      ],
      "metadata": {
        "colab": {
          "base_uri": "https://localhost:8080/"
        },
        "id": "rlJz7iVdCszn",
        "outputId": "be5eb1dc-0337-4e66-9975-70f4f2a13f2b"
      },
      "execution_count": 64,
      "outputs": [
        {
          "output_type": "stream",
          "name": "stdout",
          "text": [
            "{'name': 'John', 'age': 25, 'country': 'USA'}\n"
          ]
        }
      ]
    },
    {
      "cell_type": "code",
      "source": [
        "# 23. Write a code to access the value associated with the key \"name\" in the dictionary {'name': 'Alice', \t'age': 30}.\n",
        "r = {'name': 'Alice', \t'age': 30}\n",
        "print(r[\"name\"])"
      ],
      "metadata": {
        "colab": {
          "base_uri": "https://localhost:8080/"
        },
        "id": "epFtFHJiC3Q7",
        "outputId": "d5973d47-79a8-4eb7-b4c9-5d9368800741"
      },
      "execution_count": 66,
      "outputs": [
        {
          "output_type": "stream",
          "name": "stdout",
          "text": [
            "Alice\n"
          ]
        }
      ]
    },
    {
      "cell_type": "code",
      "source": [
        "# 24. Write a code to remove the key \"age\" from the dictionary {'name': 'Bob', 'age': 22,'city': 'New York'}.\n",
        "d = {'name': 'Bob', 'age': 22,'city': 'New York'}\n",
        "del d [\"age\"]\n",
        "print(d)"
      ],
      "metadata": {
        "colab": {
          "base_uri": "https://localhost:8080/"
        },
        "id": "nkKrR_19C9uW",
        "outputId": "2e6c017d-e3df-4e00-e288-1de21dfeab93"
      },
      "execution_count": 70,
      "outputs": [
        {
          "output_type": "stream",
          "name": "stdout",
          "text": [
            "{'name': 'Bob', 'city': 'New York'}\n"
          ]
        }
      ]
    },
    {
      "cell_type": "code",
      "source": [
        "# 25. Write a code to check if the key \"city\" exists in the dictionary {'name': 'Alice', 'city': 'Paris'}.\n",
        "check = {'name': 'Alice', 'city': 'Paris'}\n",
        "print(\"city\" in check)"
      ],
      "metadata": {
        "colab": {
          "base_uri": "https://localhost:8080/"
        },
        "id": "GzNmSlJhDAfP",
        "outputId": "5a4b832b-9fb2-4467-b4f1-db85f60696ba"
      },
      "execution_count": 71,
      "outputs": [
        {
          "output_type": "stream",
          "name": "stdout",
          "text": [
            "True\n"
          ]
        }
      ]
    },
    {
      "cell_type": "code",
      "source": [
        "# 26. Write a code to create a list, a tuple, and a dictionary, and print them all.\n",
        "A = [\"a\",\"b\",\"c\"]\n",
        "tup = (1,2,3)\n",
        "dic = {\"@\":99,\"&\":88}\n",
        "print(A,tup,dic)"
      ],
      "metadata": {
        "colab": {
          "base_uri": "https://localhost:8080/"
        },
        "id": "MDNWJ7olDHzB",
        "outputId": "d05a203c-d93b-41aa-dc97-c5e93346ee30"
      },
      "execution_count": 83,
      "outputs": [
        {
          "output_type": "stream",
          "name": "stdout",
          "text": [
            "['a', 'b', 'c'] (1, 2, 3) {'@': 99, '&': 88}\n"
          ]
        }
      ]
    },
    {
      "cell_type": "code",
      "source": [
        "# 27. Write a code to create a list of 5 random numbers between 1 and 100,sort it in ascending order, and print the result.(replaced)\n",
        "import random\n",
        "\n",
        "rand_nums = random.sample(range(1, 100), 5)\n",
        "rand_nums.sort()\n",
        "print(rand_nums)"
      ],
      "metadata": {
        "colab": {
          "base_uri": "https://localhost:8080/"
        },
        "id": "jlOCjalvDLBM",
        "outputId": "8986a42e-1972-4a08-bede-11cc87e6886b"
      },
      "execution_count": 88,
      "outputs": [
        {
          "output_type": "stream",
          "name": "stdout",
          "text": [
            "[18, 24, 34, 55, 67]\n"
          ]
        }
      ]
    },
    {
      "cell_type": "code",
      "source": [
        "# 28. Write a code to create a list with strings and print the element at the third index.\n",
        "l = [\"umesh\",\"banana\", \"cherry\", \"date\", \"elder\"]\n",
        "print(l[3])"
      ],
      "metadata": {
        "colab": {
          "base_uri": "https://localhost:8080/"
        },
        "id": "7Xk_kDrHDPAl",
        "outputId": "c39e6ee4-9508-4215-82d8-ad3d53fc4673"
      },
      "execution_count": 93,
      "outputs": [
        {
          "output_type": "stream",
          "name": "stdout",
          "text": [
            "date\n"
          ]
        }
      ]
    },
    {
      "cell_type": "code",
      "source": [
        "# 29. Write a code to combine two dictionaries into one and print the result.\n",
        "r = {'nam': 'Alice', \t'ag': 30}\n",
        "k = {\"name\" : \"Umesh\", \"age\": 42, \"city\":\"Bangalore\"}\n",
        "combined = r.copy()\n",
        "combined.update(k)\n",
        "print(combined)"
      ],
      "metadata": {
        "colab": {
          "base_uri": "https://localhost:8080/"
        },
        "id": "gylQv2oKDR-w",
        "outputId": "e112e067-faf8-4b53-9127-50182f38ecf7"
      },
      "execution_count": 95,
      "outputs": [
        {
          "output_type": "stream",
          "name": "stdout",
          "text": [
            "{'nam': 'Alice', 'ag': 30, 'name': 'Umesh', 'age': 42, 'city': 'Bangalore'}\n"
          ]
        }
      ]
    },
    {
      "cell_type": "code",
      "source": [
        "# 30. Write a code to convert a list of strings into a set.\n",
        "s =  [1, 2, 3, 4, 5]\n",
        "s1 =set(s)\n",
        "print(s1)"
      ],
      "metadata": {
        "colab": {
          "base_uri": "https://localhost:8080/"
        },
        "id": "RGiVElr-DWnp",
        "outputId": "714b69e5-3f27-4bb9-d646-4fc13a9b5641"
      },
      "execution_count": 99,
      "outputs": [
        {
          "output_type": "stream",
          "name": "stdout",
          "text": [
            "{1, 2, 3, 4, 5}\n"
          ]
        }
      ]
    }
  ]
}