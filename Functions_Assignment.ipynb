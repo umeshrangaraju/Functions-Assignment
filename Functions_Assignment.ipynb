{
  "nbformat": 4,
  "nbformat_minor": 0,
  "metadata": {
    "colab": {
      "provenance": []
    },
    "kernelspec": {
      "name": "python3",
      "display_name": "Python 3"
    },
    "language_info": {
      "name": "python"
    }
  },
  "cells": [
    {
      "cell_type": "markdown",
      "source": [
        "### **Functions Assignment**\n",
        "\n",
        "1. What is the difference between a function and a method in Python?    \n",
        "--> Function: A block of code that performs a task and can be called independently.\n",
        "--> Method: A function that is associated with an object and is called using dot notation.\n",
        "\n",
        "python eg :\n",
        "# Function\n",
        "def greet():    \n",
        "    print(\"Hello\")\n",
        "\n",
        "---\n",
        "2. Explain the concept of function arguments and parameters in Python.    \n",
        "\n",
        "--> Parameters: Variables listed in the function definition.\n",
        "--> Arguments: Actual values passed to the function when calling it.\n",
        "\n",
        "python eg :         \n",
        "def add(x, y):  # x and y are parameters          \n",
        "    return x + y        \n",
        "add(3, 5)  # 3 and 5 are arguments    \n",
        "\n",
        "---\n",
        "3. What are the different ways to define and call a function in Python?\n",
        "--> Define using def or lambda\n",
        "Call by using the function name followed by parentheses\n",
        "\n",
        "python eg :\n",
        "def say_hello():\n",
        "    print(\"Hello\")\n",
        "say_hello()\n",
        "\n",
        "# Lambda\n",
        "\n",
        "square = lambda x: x * x    \n",
        "print(square(4))  \n",
        "---\n",
        "4. What is the purpose of the `return` statement in a Python function?    \n",
        "--> It exits the function and sends a value back to the caller.      \n",
        "--> Without return, the function returns None by default.\n",
        "\n",
        "---\n",
        "5. What are iterators in Python and how do they differ from iterables?    \n",
        "--> Iterable\tAn object that can be looped over (e.g., list, tuple)   \n",
        "--> Iterator\tAn object with a __next__() method that returns items one at a time   \n",
        "python >    \n",
        "lst = [1, 2, 3]   \n",
        "it = iter(lst)  # it is an iterator   \n",
        "print(next(it))  # 1  \n",
        "---\n",
        "6. Explain the concept of generators in Python and how they are defined.  \n",
        "Generators are special iterators defined using yield.\n",
        "\n",
        "They produce items one at a time and maintain state between calls.\n",
        "\n",
        "python\n",
        "def count_up_to(n):\n",
        "    i = 1\n",
        "    while i <= n:\n",
        "        yield i\n",
        "        i += 1\n",
        "---\n",
        "7. What are the advantages of using generators over regular functions?  \n",
        "--> Memory-efficient: Don’t store entire sequences in memory.   \n",
        "--> Lazy evaluation: Compute values only when needed.   \n",
        "--> Simpler syntax for custom iterators.  \n",
        "\n",
        "---\n",
        "8. What is a lambda function in Python and when is it typically used?     \n",
        "--> Anonymous, one-line functions.    \n",
        "Used for short, throwaway functions, often with map, filter, etc.\n",
        "\n",
        "python eg.      \n",
        "add = lambda x, y: x + y      \n",
        "print(add(2, 3))\n",
        "\n",
        "---\n",
        "9. Explain the purpose and usage of the `map()` function in Python.     \n",
        "--> Applies a function to each item in an iterable.   \n",
        "\n",
        "python eg.    \n",
        "nums = [1, 2, 3]    \n",
        "squared = list(map(lambda x: x**2, nums))   \n",
        "print(squared)\n",
        "\n",
        "---\n",
        "10. What is the difference between `map()`, `reduce()`, and `filter()` functions in Python?     \n",
        "-->    \n",
        "-> map()\tTransforms each item\tTransformed iterable    \n",
        "-> filter()\tFilters items based on condition\tFiltered iterable   \n",
        "-> reduce()\tAggregates items to a single value\tSingle result   \n",
        "\n",
        "python eg.      \n",
        "from functools import reduce      \n",
        "# map\n",
        "map_result = list(map(lambda x: x*2, [1, 2, 3]))\n",
        "# filter\n",
        "filter_result = list(filter(lambda x: x > 1, [1, 2, 3]))\n",
        "# reduce\n",
        "reduce_result = reduce(lambda x, y: x + y, [1, 2, 3])\n",
        "\n",
        "---\n",
        "11. Using pen & Paper write the internal mechanism for sum operation using reduce function on this given list:[47,11,42,13];    \n",
        "--> Given list: [47, 11, 42, 13]\n",
        "\n",
        "Using reduce(lambda x, y: x + y, [47, 11, 42, 13])\n",
        "\n",
        "Step-by-step:\n",
        "\n",
        "47 + 11 = 58\n",
        "\n",
        "58 + 42 = 100\n",
        "\n",
        "100 + 13 = 113\n",
        "\n",
        "Final result: 113   \n",
        "\n",
        "----\n",
        "\n"
      ],
      "metadata": {
        "id": "Ea7HIG531aQm"
      }
    },
    {
      "cell_type": "markdown",
      "source": [
        "# ***Practical Questions:***"
      ],
      "metadata": {
        "id": "qjKGZxkx84vz"
      }
    },
    {
      "cell_type": "code",
      "source": [
        "#1. Write a Python function that takes a list of numbers as input and returns the sum of all even numbers in the list.\n",
        "def sum_even(numbers):\n",
        "    return sum(num for num in numbers if num % 2 == 0)\n",
        "\n",
        "print(sum_even([1, 2, 3, 4, 5, 6]))"
      ],
      "metadata": {
        "colab": {
          "base_uri": "https://localhost:8080/"
        },
        "id": "ayOsZhC26MFq",
        "outputId": "4dbc6b2f-ca4a-42cc-a1bc-893641332916"
      },
      "execution_count": 2,
      "outputs": [
        {
          "output_type": "stream",
          "name": "stdout",
          "text": [
            "12\n"
          ]
        }
      ]
    },
    {
      "cell_type": "code",
      "source": [
        "# 2. Create a Python function that accepts a string and returns the reverse of that string.\n",
        "def reverse_string(s):\n",
        "    return s[::-1]\n",
        "\n",
        "print(reverse_string(\"hello\"))"
      ],
      "metadata": {
        "colab": {
          "base_uri": "https://localhost:8080/"
        },
        "id": "UL_FIhca7e0r",
        "outputId": "e4c2d57c-7cdd-4b86-dcb8-e47183589912"
      },
      "execution_count": 15,
      "outputs": [
        {
          "output_type": "stream",
          "name": "stdout",
          "text": [
            "olleh\n"
          ]
        }
      ]
    },
    {
      "cell_type": "code",
      "source": [
        "# 3. Implement a Python function that takes a list of integers and returns a new list containing the squares of each number.\n",
        "def square_list(nums):\n",
        "    return [x**2 for x in nums]\n",
        "\n",
        "print(square_list([1, 2, 3, 4]))"
      ],
      "metadata": {
        "colab": {
          "base_uri": "https://localhost:8080/"
        },
        "id": "Mg5piO4a7njL",
        "outputId": "9c886626-6d1e-409d-ac2e-65c68a0ed9f3"
      },
      "execution_count": 16,
      "outputs": [
        {
          "output_type": "stream",
          "name": "stdout",
          "text": [
            "[1, 4, 9, 16]\n"
          ]
        }
      ]
    },
    {
      "cell_type": "code",
      "source": [
        "# 4. Write a Python function that checks if a given number is prime or not from 1 to 200.\n",
        "def is_prime(n):\n",
        "    if n < 2:\n",
        "        return False\n",
        "    for i in range(2, int(n**0.5)+1):\n",
        "        if n % i == 0:\n",
        "            return False\n",
        "    return True\n",
        "\n",
        "# Example usage\n",
        "for i in range(1, 201):\n",
        "    if is_prime(i):\n",
        "        print(i, \"is prime\")"
      ],
      "metadata": {
        "colab": {
          "base_uri": "https://localhost:8080/"
        },
        "id": "maDJ17v47oTJ",
        "outputId": "aff33bac-25b1-45e6-884a-f0fed5f7733d"
      },
      "execution_count": 17,
      "outputs": [
        {
          "output_type": "stream",
          "name": "stdout",
          "text": [
            "2 is prime\n",
            "3 is prime\n",
            "5 is prime\n",
            "7 is prime\n",
            "11 is prime\n",
            "13 is prime\n",
            "17 is prime\n",
            "19 is prime\n",
            "23 is prime\n",
            "29 is prime\n",
            "31 is prime\n",
            "37 is prime\n",
            "41 is prime\n",
            "43 is prime\n",
            "47 is prime\n",
            "53 is prime\n",
            "59 is prime\n",
            "61 is prime\n",
            "67 is prime\n",
            "71 is prime\n",
            "73 is prime\n",
            "79 is prime\n",
            "83 is prime\n",
            "89 is prime\n",
            "97 is prime\n",
            "101 is prime\n",
            "103 is prime\n",
            "107 is prime\n",
            "109 is prime\n",
            "113 is prime\n",
            "127 is prime\n",
            "131 is prime\n",
            "137 is prime\n",
            "139 is prime\n",
            "149 is prime\n",
            "151 is prime\n",
            "157 is prime\n",
            "163 is prime\n",
            "167 is prime\n",
            "173 is prime\n",
            "179 is prime\n",
            "181 is prime\n",
            "191 is prime\n",
            "193 is prime\n",
            "197 is prime\n",
            "199 is prime\n"
          ]
        }
      ]
    },
    {
      "cell_type": "code",
      "source": [
        "# 5. Create an iterator class in Python that generates the Fibonacci sequence up to a specified number of terms.\n",
        "class Fibonacci:\n",
        "    def __init__(self, max_terms):\n",
        "        self.max_terms = max_terms\n",
        "        self.count = 0\n",
        "        self.a, self.b = 0, 1\n",
        "\n",
        "    def __iter__(self):\n",
        "        return self\n",
        "\n",
        "    def __next__(self):\n",
        "        if self.count >= self.max_terms:\n",
        "            raise StopIteration\n",
        "        value = self.a\n",
        "        self.a, self.b = self.b, self.a + self.b\n",
        "        self.count += 1\n",
        "        return value\n",
        "\n",
        "# Example usage\n",
        "for num in Fibonacci(10):\n",
        "    print(num)"
      ],
      "metadata": {
        "colab": {
          "base_uri": "https://localhost:8080/"
        },
        "id": "LbtKGfFB7vy6",
        "outputId": "1d3247e1-2c8d-460f-c437-d9b95f1d3596"
      },
      "execution_count": 18,
      "outputs": [
        {
          "output_type": "stream",
          "name": "stdout",
          "text": [
            "0\n",
            "1\n",
            "1\n",
            "2\n",
            "3\n",
            "5\n",
            "8\n",
            "13\n",
            "21\n",
            "34\n"
          ]
        }
      ]
    },
    {
      "cell_type": "code",
      "source": [
        "# 6. Write a generator function in Python that yields the powers of 2 up to a given exponent.\n",
        "def powers_of_two(max_exp):\n",
        "    for i in range(max_exp + 1):\n",
        "        yield 2 ** i\n",
        "\n",
        "# Example usage\n",
        "for power in powers_of_two(5):\n",
        "    print(power)"
      ],
      "metadata": {
        "colab": {
          "base_uri": "https://localhost:8080/"
        },
        "id": "cyQmx-qw70da",
        "outputId": "84a85398-88b0-458d-b3c3-eb328a088ed6"
      },
      "execution_count": 19,
      "outputs": [
        {
          "output_type": "stream",
          "name": "stdout",
          "text": [
            "1\n",
            "2\n",
            "4\n",
            "8\n",
            "16\n",
            "32\n"
          ]
        }
      ]
    },
    {
      "cell_type": "code",
      "source": [
        "# 7. Implement a generator function that reads a file line by line and yields each line as a string\n",
        "def read_lines(filename):\n",
        "    with open(filename, 'r') as file:\n",
        "        for line in file:\n",
        "            yield line.strip()\n",
        "\n",
        "# Example usage\n",
        "# for line in read_lines(\"example.txt\"):\n",
        "#     print(line)"
      ],
      "metadata": {
        "id": "iXR-c68e738_"
      },
      "execution_count": 21,
      "outputs": []
    },
    {
      "cell_type": "code",
      "source": [
        "# 8. Use a lambda function in Python to sort a list of tuples based on the second element of each tuple.\n",
        "data = [(1, 3), (2, 1), (4, 2)]\n",
        "sorted_data = sorted(data, key=lambda x: x[1])\n",
        "print(sorted_data)  # Output: [(2, 1), (4, 2), (1, 3)]"
      ],
      "metadata": {
        "colab": {
          "base_uri": "https://localhost:8080/"
        },
        "id": "N-fwlaZt775G",
        "outputId": "741d2b04-2b11-4437-a1fd-8552210914ed"
      },
      "execution_count": 23,
      "outputs": [
        {
          "output_type": "stream",
          "name": "stdout",
          "text": [
            "[(2, 1), (4, 2), (1, 3)]\n"
          ]
        }
      ]
    },
    {
      "cell_type": "code",
      "source": [
        "# 9. Write a Python program that uses `map()` to convert a list of temperatures from Celsius to Fahrenheit\n",
        "celsius = [0, 20, 30, 40]\n",
        "fahrenheit = list(map(lambda c: (c * 9/5) + 32, celsius))\n",
        "print(fahrenheit)  # Output: [32.0, 68.0, 86.0, 104.0]\n"
      ],
      "metadata": {
        "colab": {
          "base_uri": "https://localhost:8080/"
        },
        "id": "op6K-6oC7-UV",
        "outputId": "f7200aa0-b064-4b83-b17e-c7b41929cd84"
      },
      "execution_count": 22,
      "outputs": [
        {
          "output_type": "stream",
          "name": "stdout",
          "text": [
            "[32.0, 68.0, 86.0, 104.0]\n"
          ]
        }
      ]
    },
    {
      "cell_type": "code",
      "source": [
        "# 10. Create a Python program that uses `filter()` to remove all the vowels from a given string.\n",
        "def remove_vowels(s):\n",
        "    vowels = \"aeiouAEIOU\"\n",
        "    return ''.join(filter(lambda x: x not in vowels, s))\n",
        "\n",
        "print(remove_vowels(\"Hello World\"))"
      ],
      "metadata": {
        "colab": {
          "base_uri": "https://localhost:8080/"
        },
        "id": "-CZ9yBOd8B_8",
        "outputId": "554b2766-45e5-4e96-bc2b-6b8b4c7c4065"
      },
      "execution_count": 24,
      "outputs": [
        {
          "output_type": "stream",
          "name": "stdout",
          "text": [
            "Hll Wrld\n"
          ]
        }
      ]
    },
    {
      "cell_type": "code",
      "source": [
        "# Imagine an accounting routine used in a book shop. It works on a list with sublists, which look like this:\n",
        "\n",
        "# Order Number    Book Title and Author               Quantity    Price per Item\n",
        "# 34587           Learning Python, Mark Lutz            4             40.95\n",
        "# 98762           Programming Python, Mark Lutz         5             56.8\n",
        "# 77226           Head First Python, Paul Barry         3             32.95\n",
        "# 88112           Einführung in Python3, Bernd Klein    3             24.99\n",
        "\n",
        "# Write a Python program, which returns a list with 2-tuples. Each tuple consists of the order number and the\n",
        "# product of the price per item and the quantity. The product should be increased by 10,- € if the value of the\n",
        "# order is smaller than 100,00 €.\n",
        "\n",
        "# Write a Python program using lambda and map.\n",
        "\n",
        "orders = [\n",
        "    [34587, \"Learning Python, Mark Lutz\", 4, 40.95],\n",
        "    [98762, \"Programming Python, Mark Lutz\", 5, 56.80],\n",
        "    [77226, \"Head First Python, Paul Barry\", 3, 32.95],\n",
        "    [88112, \"Einführung in Python3, Bernd Klein\", 3, 24.99]\n",
        "]\n",
        "\n",
        "# Apply lambda and map to compute total with conditional surcharge\n",
        "invoice = list(map(lambda order: (\n",
        "    order[0],\n",
        "    order[2] * order[3] + (10 if order[2] * order[3] < 100 else 0)\n",
        "), orders))\n",
        "\n",
        "print(invoice)"
      ],
      "metadata": {
        "colab": {
          "base_uri": "https://localhost:8080/"
        },
        "id": "r4HWqC688E-6",
        "outputId": "fca8a2ef-83d2-4c3b-dabd-6550366d6d0f"
      },
      "execution_count": 26,
      "outputs": [
        {
          "output_type": "stream",
          "name": "stdout",
          "text": [
            "[(34587, 163.8), (98762, 284.0), (77226, 108.85000000000001), (88112, 84.97)]\n"
          ]
        }
      ]
    }
  ]
}